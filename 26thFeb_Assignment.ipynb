{
 "cells": [
  {
   "cell_type": "markdown",
   "id": "d890b006-ab2e-4e97-b0f7-1bb8fed9139a",
   "metadata": {},
   "source": [
    "Consider the below code to answer further questions:\n",
    "import numpy as np\n",
    "list_ = [ ‘1’ , ’2’ , ‘3’ , ‘4’ , ‘5’ ]\n",
    "array_list = np.array(object = list_)"
   ]
  },
  {
   "cell_type": "markdown",
   "id": "4837ee85-e8d9-46f4-89e8-181acf024575",
   "metadata": {},
   "source": [
    "Q1. Is there any difference in the data type of variables list_ and array_list? If there is then write a code to print the data types of both the variables."
   ]
  },
  {
   "cell_type": "markdown",
   "id": "19a62995-ba24-4f77-a623-417e2f8b8b03",
   "metadata": {},
   "source": [
    "Yes, there is a difference in the data type of variables list_ and array_list.\n",
    "\n",
    "The variable list_ is a Python list, which can hold elements of different data types. In this case, it appears to be a list of strings.\n",
    "\n",
    "The variable array_list is a NumPy array, created using the np.array() function. NumPy arrays are homogeneous, meaning they can only hold elements of a single data type. In this case, since the input list contains strings, the elements in the NumPy array will be of the string data type.\n",
    "\n",
    "To print the data types of both variables, you can use the type() function. Here's the code:"
   ]
  },
  {
   "cell_type": "code",
   "execution_count": 25,
   "id": "822ab728-0c59-4d28-be4e-355a066ff518",
   "metadata": {},
   "outputs": [
    {
     "name": "stdout",
     "output_type": "stream",
     "text": [
      "Data Type of list_ is :  <class 'list'>\n",
      "Data Type of array_list is :  <class 'numpy.ndarray'>\n"
     ]
    }
   ],
   "source": [
    "import numpy as np\n",
    "list_ =  [ '1' , '2' , '3' , '4' , '5' ] \n",
    "array_list = np.array(object = list_)\n",
    "\n",
    "print(\"Data Type of list_ is : \",type(list_))\n",
    "print(\"Data Type of array_list is : \",type(array_list))"
   ]
  },
  {
   "cell_type": "markdown",
   "id": "f89985cc-101f-44d2-8d90-533586a970f5",
   "metadata": {},
   "source": [
    "Q2. Write a code to print the data type of each and every element of both the variables list_ and array_list."
   ]
  },
  {
   "cell_type": "code",
   "execution_count": 26,
   "id": "b4db73ea-8bf9-46a4-b958-2c74ffa1e2ce",
   "metadata": {},
   "outputs": [
    {
     "name": "stdout",
     "output_type": "stream",
     "text": [
      "Data Type of element in list_ are \n",
      "<class 'str'>\n",
      "<class 'str'>\n",
      "<class 'str'>\n",
      "<class 'str'>\n",
      "<class 'str'>\n",
      "\n",
      "Data Type of element in array_list are \n",
      "<class 'numpy.str_'>\n",
      "<class 'numpy.str_'>\n",
      "<class 'numpy.str_'>\n",
      "<class 'numpy.str_'>\n",
      "<class 'numpy.str_'>\n"
     ]
    }
   ],
   "source": [
    "import numpy as np\n",
    "list_ =  [ '1' , '2' , '3' , '4' , '5' ] \n",
    "array_list = np.array(object = list_)\n",
    "\n",
    "print(\"Data Type of element in list_ are \")\n",
    "for element in list_:\n",
    "     print(type(element))\n",
    "   \n",
    "print(\"\\nData Type of element in array_list are \")\n",
    "for element in array_list:\n",
    "    print(type(element))"
   ]
  },
  {
   "cell_type": "markdown",
   "id": "fae0dca1-7600-464a-8194-ea64a034adbb",
   "metadata": {},
   "source": [
    "Q3. Considering the following changes in the variable, array_list:\n",
    "array_list = np.array(object = list_, dtype = int)\n",
    "Will there be any difference in the data type of the elements present in both the variables, list_ and\n",
    "arra_list? If so then print the data types of each and every element present in both the variables, list_\n",
    "and arra_list.\n",
    "Consider the below code to answer further questions:\n",
    "import numpy as np\n",
    "num_list = [ [ 1 , 2 , 3 ] , [ 4 , 5 , 6 ] ]\n",
    "num_array = np.array(object = num_list)"
   ]
  },
  {
   "cell_type": "code",
   "execution_count": 28,
   "id": "fce6b1b1-3f0a-466f-ba37-18f2c35d29bf",
   "metadata": {},
   "outputs": [],
   "source": [
    "import numpy as np\n",
    "\n",
    "num_list = [[1, 2, 3], [4, 5, 6]]\n",
    "num_array = np.array(object=num_list)\n",
    "\n",
    "array_list = np.array(object=num_list, dtype=int)\n"
   ]
  },
  {
   "cell_type": "markdown",
   "id": "3cad1c51-3b74-4d2d-9920-f8f4f1152e44",
   "metadata": {},
   "source": [
    "In this case, there won't be any difference in the data types of the elements present in both the variables num_list and num_array. The reason is that the elements in num_list are already integers.\n",
    "\n",
    "To print the data types of each element in both num_list and array_list, you can use the type() function within nested loops. Here's the updated code:"
   ]
  },
  {
   "cell_type": "code",
   "execution_count": 29,
   "id": "bc43ce92-dd17-437f-a8aa-cc6185d1e1ee",
   "metadata": {},
   "outputs": [
    {
     "name": "stdout",
     "output_type": "stream",
     "text": [
      "Data types of elements in num_list:\n",
      "<class 'int'>\n",
      "<class 'int'>\n",
      "<class 'int'>\n",
      "<class 'int'>\n",
      "<class 'int'>\n",
      "<class 'int'>\n",
      "\n",
      "Data types of elements in array_list:\n",
      "<class 'numpy.int64'>\n",
      "<class 'numpy.int64'>\n",
      "<class 'numpy.int64'>\n",
      "<class 'numpy.int64'>\n",
      "<class 'numpy.int64'>\n",
      "<class 'numpy.int64'>\n"
     ]
    }
   ],
   "source": [
    "import numpy as np\n",
    "\n",
    "num_list = [[1, 2, 3], [4, 5, 6]]\n",
    "num_array = np.array(object=num_list)\n",
    "\n",
    "array_list = np.array(object=num_list, dtype=int)\n",
    "\n",
    "print(\"Data types of elements in num_list:\")\n",
    "for sublist in num_list:\n",
    "    for element in sublist:\n",
    "        print(type(element))\n",
    "\n",
    "print(\"\\nData types of elements in array_list:\")\n",
    "for sublist in array_list:\n",
    "    for element in sublist:\n",
    "        print(type(element))\n"
   ]
  },
  {
   "cell_type": "markdown",
   "id": "e96ebc66-1c90-417c-a749-b9878b61ed9f",
   "metadata": {},
   "source": [
    "You'll see that the elements in both num_list and array_list are integers (int data type)."
   ]
  },
  {
   "cell_type": "markdown",
   "id": "1d0091da-da3e-452a-83ea-11f667bfdac4",
   "metadata": {},
   "source": [
    "Q4. Write a code to find the following characteristics of variable, num_array:\n",
    "(i) shape\n",
    "(ii) size"
   ]
  },
  {
   "cell_type": "code",
   "execution_count": 30,
   "id": "93926474-08c9-4190-a4f2-f77584f944b4",
   "metadata": {},
   "outputs": [
    {
     "name": "stdout",
     "output_type": "stream",
     "text": [
      "Shape of num_array: (2, 3)\n",
      "Size of num_array: 6\n"
     ]
    }
   ],
   "source": [
    "import numpy as np\n",
    "\n",
    "num_list = [[1, 2, 3], [4, 5, 6]]\n",
    "num_array = np.array(num_list)\n",
    "\n",
    "# Finding the shape of num_array\n",
    "shape = num_array.shape\n",
    "\n",
    "# Finding the size of num_array\n",
    "size = num_array.size\n",
    "\n",
    "print(\"Shape of num_array:\", shape)\n",
    "print(\"Size of num_array:\", size)\n"
   ]
  },
  {
   "cell_type": "markdown",
   "id": "31f092be-eef2-4e80-b93b-50ff905f0da2",
   "metadata": {},
   "source": [
    "The shape (2, 3) indicates that num_array has 2 rows and 3 columns. The size 6 represents the total number of elements in num_array."
   ]
  },
  {
   "cell_type": "markdown",
   "id": "3b37b7bd-484c-475b-a95a-2691378f7a03",
   "metadata": {},
   "source": [
    "Q5. Write a code to create numpy array of 3*3 matrix containing zeros only, using a numpy array creation function."
   ]
  },
  {
   "cell_type": "code",
   "execution_count": 32,
   "id": "80b53a77-7027-4fb7-83ad-b6ccf5b9fdcd",
   "metadata": {},
   "outputs": [],
   "source": [
    "numpy_array = np.zeros((3,3))"
   ]
  },
  {
   "cell_type": "code",
   "execution_count": 34,
   "id": "6c91ae87-344a-4576-bfe4-e2f28599b170",
   "metadata": {},
   "outputs": [
    {
     "name": "stdout",
     "output_type": "stream",
     "text": [
      "[[0. 0. 0.]\n",
      " [0. 0. 0.]\n",
      " [0. 0. 0.]]\n"
     ]
    }
   ],
   "source": [
    "print(numpy_array)"
   ]
  },
  {
   "cell_type": "markdown",
   "id": "97a48092-984a-4883-b1fc-c01d85686f68",
   "metadata": {},
   "source": [
    "Q6. Create an identity matrix of shape (5,5) using numpy functions?"
   ]
  },
  {
   "cell_type": "code",
   "execution_count": 36,
   "id": "f45b6463-6791-4a7c-9c44-ba67df062e6c",
   "metadata": {},
   "outputs": [
    {
     "name": "stdout",
     "output_type": "stream",
     "text": [
      "[1. 1. 1. 1. 1.]\n"
     ]
    }
   ],
   "source": [
    "import numpy as np\n",
    "\n",
    "identity_matrix = np.ones(5)\n",
    "\n",
    "print(identity_matrix)\n"
   ]
  },
  {
   "cell_type": "code",
   "execution_count": 41,
   "id": "f979452a-e1aa-4d37-a1ba-2451be2bde34",
   "metadata": {},
   "outputs": [
    {
     "name": "stdout",
     "output_type": "stream",
     "text": [
      "[[1. 0. 0. 0. 0.]\n",
      " [0. 1. 0. 0. 0.]\n",
      " [0. 0. 1. 0. 0.]\n",
      " [0. 0. 0. 1. 0.]\n",
      " [0. 0. 0. 0. 1.]]\n"
     ]
    }
   ],
   "source": [
    "print(np.diag(identity_matrix))"
   ]
  },
  {
   "cell_type": "code",
   "execution_count": null,
   "id": "14c1b1fb-e79e-4cba-80ad-7ba46634a47c",
   "metadata": {},
   "outputs": [],
   "source": []
  }
 ],
 "metadata": {
  "kernelspec": {
   "display_name": "Python 3 (ipykernel)",
   "language": "python",
   "name": "python3"
  },
  "language_info": {
   "codemirror_mode": {
    "name": "ipython",
    "version": 3
   },
   "file_extension": ".py",
   "mimetype": "text/x-python",
   "name": "python",
   "nbconvert_exporter": "python",
   "pygments_lexer": "ipython3",
   "version": "3.10.8"
  }
 },
 "nbformat": 4,
 "nbformat_minor": 5
}
